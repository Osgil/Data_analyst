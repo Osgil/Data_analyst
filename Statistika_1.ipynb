{
  "nbformat": 4,
  "nbformat_minor": 0,
  "metadata": {
    "colab": {
      "name": ".ipynb",
      "provenance": [],
      "mount_file_id": "1Ezjpdqa5Lmhj-XfLFYNWvNMCd8IBmJiJ",
      "authorship_tag": "ABX9TyPfFhiOSSOsiADLHKn8F4iV",
      "include_colab_link": true
    },
    "kernelspec": {
      "name": "python3",
      "display_name": "Python 3"
    },
    "language_info": {
      "name": "python"
    }
  },
  "cells": [
    {
      "cell_type": "markdown",
      "metadata": {
        "id": "view-in-github",
        "colab_type": "text"
      },
      "source": [
        "<a href=\"https://colab.research.google.com/github/Osgil/Data_analyst/blob/main/Statistika_1.ipynb\" target=\"_parent\"><img src=\"https://colab.research.google.com/assets/colab-badge.svg\" alt=\"Open In Colab\"/></a>"
      ]
    },
    {
      "cell_type": "code",
      "execution_count": null,
      "metadata": {
        "id": "6QIYv0Ut-fKL"
      },
      "outputs": [],
      "source": [
        "import pandas as pd\n",
        "import scipy.stats "
      ]
    },
    {
      "cell_type": "code",
      "source": [
        "df = pd.read_csv('/content/drive/MyDrive/5_task_1.csv') # Создаем датафрейм из \n",
        "                                                        # файла"
      ],
      "metadata": {
        "id": "nHKGNCj-_uru"
      },
      "execution_count": 11,
      "outputs": []
    },
    {
      "cell_type": "markdown",
      "source": [
        "Проверим на гомогенность дисперсию групп"
      ],
      "metadata": {
        "id": "OZn63_p6COMW"
      }
    },
    {
      "cell_type": "code",
      "source": [
        ""
      ],
      "metadata": {
        "id": "EsjLia3JCIWD"
      },
      "execution_count": null,
      "outputs": []
    }
  ]
}